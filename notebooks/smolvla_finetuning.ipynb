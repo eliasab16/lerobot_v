{
 "cells": [
  {
   "cell_type": "code",
   "execution_count": null,
   "metadata": {},
   "outputs": [],
   "source": [
    "!hf auth login --add-to-git-credential --token <hf_token>\n",
    "!wandb login <wandb_token>"
   ]
  },
  {
   "cell_type": "markdown",
   "metadata": {
    "id": "IkzTo4mNwxaC"
   },
   "source": [
    "## Start training SmolVLA with LeRobot\n",
    "\n",
    "This cell runs the `train.py` script from the `lerobot` library to train a robot control policy.  \n",
    "\n",
    "Make sure to adjust the following arguments to your setup:\n",
    "\n",
    "1. `--dataset.repo_id=YOUR_HF_USERNAME/YOUR_DATASET`:  \n",
    "   Replace this with the Hugging Face Hub repo ID where your dataset is stored, e.g., `pepijn223/il_gym0`.\n",
    "\n",
    "2. `--batch_size=64`: means the model processes 64 training samples in parallel before doing one gradient update. Reduce this number if you have a GPU with low memory.\n",
    "\n",
    "3. `--output_dir=outputs/train/...`:  \n",
    "   Directory where training logs and model checkpoints will be saved.\n",
    "\n",
    "4. `--job_name=...`:  \n",
    "   A name for this training job, used for logging and Weights & Biases.\n",
    "\n",
    "5. `--policy.device=cuda`:  \n",
    "   Use `cuda` if training on an NVIDIA GPU. Use `mps` for Apple Silicon, or `cpu` if no GPU is available.\n",
    "\n",
    "6. `--wandb.enable=true`:  \n",
    "   Enables Weights & Biases for visualizing training progress. You must be logged in via `wandb login` before running this."
   ]
  },
  {
   "cell_type": "code",
   "execution_count": null,
   "metadata": {
    "colab": {
     "base_uri": "https://localhost:8080/"
    },
    "id": "BlWgT4xm9tjg",
    "outputId": "56253f6d-1a66-45c6-ffc0-7fffa20a2b1b",
    "scrolled": true
   },
   "outputs": [],
   "source": [
    "!accelerate launch src/lerobot/scripts/train.py \\\n",
    "  --policy.path=lerobot/smolvla_base \\\n",
    "  --dataset.repo_id={hf_user}/{dataset_name} \\\n",
    "  --batch_size=64\\\n",
    "  --steps=50000 \\\n",
    "  --save_freq=10000 \\\n",
    "  --output_dir=outputs/train/{job_name} \\\n",
    "  --job_name={job_name} \\\n",
    "  --policy.device=cuda \\\n",
    "  --policy.repo_id={hf_user}/{job_name} \\\n",
    "  --wandb.enable=true"
   ]
  },
  {
   "cell_type": "code",
   "execution_count": null,
   "metadata": {},
   "outputs": [],
   "source": [
    "# resume training\n",
    "!accelerate launch src/lerobot/scripts/train.py \\\n",
    "  --steps=60000 \\\n",
    "  --save_freq=10000 \\\n",
    "  --config_path=<path_to_checkpoint>/pretrained_model/train_config.json \\\n",
    "  --wandb.enable=true \\\n",
    "  --resume=true"
   ]
  },
  {
   "cell_type": "code",
   "execution_count": null,
   "metadata": {
    "id": "zFMLGuVkH7UN"
   },
   "outputs": [],
   "source": [
    "!huggingface-cli upload ${HF_USER}/my_smolvla \\\n",
    "  /content/lerobot/outputs/train/my_smolvla/checkpoints/last/pretrained_model"
   ]
  }
 ],
 "metadata": {
  "accelerator": "GPU",
  "colab": {
   "gpuType": "L4",
   "machine_shape": "hm",
   "provenance": []
  },
  "kernelspec": {
   "display_name": "Python 3 (ipykernel)",
   "language": "python",
   "name": "python3"
  },
  "language_info": {
   "codemirror_mode": {
    "name": "ipython",
    "version": 3
   },
   "file_extension": ".py",
   "mimetype": "text/x-python",
   "name": "python",
   "nbconvert_exporter": "python",
   "pygments_lexer": "ipython3",
   "version": "3.10.12"
  }
 },
 "nbformat": 4,
 "nbformat_minor": 4
}
